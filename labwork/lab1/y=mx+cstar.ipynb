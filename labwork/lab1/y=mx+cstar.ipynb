{
 "cells": [
  {
   "cell_type": "code",
   "execution_count": 1,
   "metadata": {
    "collapsed": true
   },
   "outputs": [],
   "source": [
    "import tensorflow as tf\n",
    "import numpy as np\n",
    "import matplotlib.pyplot as plt"
   ]
  },
  {
   "cell_type": "code",
   "execution_count": 2,
   "metadata": {},
   "outputs": [
    {
     "name": "stdout",
     "output_type": "stream",
     "text": [
      "[ 1.  2.  3.  4.  5.  6.]\n",
      "[ 1.  2.  3.  4.  5.  6.]\n"
     ]
    }
   ],
   "source": [
    "x = tf.constant([1.0,2.0,3.0,4.0,5.0,6.0], shape=[1, 6], name='x')\n",
    "y = tf.constant([1.0,2.0,3.0,4.0,5.0,6.0], shape=[1, 6], name='y')\n",
    "with tf.name_scope (\"array_x\"):\n",
    "    with tf.Session() as sess:\n",
    "        for i in range(len(sess.run(x))):\n",
    "            output = sess.run(x[i])\n",
    "            print(output)\n",
    "    \n",
    "\n",
    "with tf.name_scope (\"array_y\"):\n",
    "    with tf.Session() as sess:\n",
    "        for i in range(len(sess.run(y))):\n",
    "            output1 = sess.run(y[i])\n",
    "            print(output1)"
   ]
  },
  {
   "cell_type": "code",
   "execution_count": 4,
   "metadata": {
    "collapsed": true
   },
   "outputs": [],
   "source": [
    " with tf.name_scope(\"Scope_variance\"):\n",
    "          mean_of_x=tf.reduce_mean(x)\n",
    "          mean_of_y =tf.reduce_mean(y)\n"
   ]
  },
  {
   "cell_type": "code",
   "execution_count": 5,
   "metadata": {},
   "outputs": [
    {
     "name": "stdout",
     "output_type": "stream",
     "text": [
      "3.5\n",
      "17.5\n"
     ]
    }
   ],
   "source": [
    " with tf.name_scope(\"Scope_variance\"):\n",
    "        \n",
    "       \n",
    "       ## mean_sqx=tf.multiply( mean_of_x, mean_of_x)\n",
    "        ##mean_sqy=tf.multiply( mean_of_y, mean_of_y)\n",
    "        subtract1=tf.subtract(x,mean_of_x)\n",
    "        sess=tf.Session()\n",
    "        print( sess.run(mean_of_x))\n",
    "        multiply1=tf.multiply(subtract1,subtract1)\n",
    "        variance=tf.reduce_sum(multiply1)\n",
    "        \n",
    "        sess=tf.Session()\n",
    "print( sess.run(variance))"
   ]
  },
  {
   "cell_type": "code",
   "execution_count": 6,
   "metadata": {},
   "outputs": [
    {
     "name": "stdout",
     "output_type": "stream",
     "text": [
      "17.5\n"
     ]
    }
   ],
   "source": [
    " with tf.name_scope(\"Scope_covariance\"):\n",
    "         with tf.name_scope(\"Scope_multication\"):\n",
    "                 subtract2=tf.subtract(y,mean_of_y)\n",
    "                 multiply2=tf.multiply(subtract1,subtract2)\n",
    "                 covariance=tf.reduce_sum(multiply2)\n",
    "                 sess=tf.Session()\n",
    "                 print(sess.run(covariance))\n",
    "                \n",
    "                "
   ]
  },
  {
   "cell_type": "code",
   "execution_count": 7,
   "metadata": {},
   "outputs": [
    {
     "name": "stdout",
     "output_type": "stream",
     "text": [
      "1.0\n"
     ]
    }
   ],
   "source": [
    "with tf.name_scope(\"Scope_value_c\"):\n",
    "    c=tf.divide(covariance,variance)\n",
    "    sess=tf.Session()\n",
    "    print(sess.run(c))"
   ]
  },
  {
   "cell_type": "code",
   "execution_count": 8,
   "metadata": {},
   "outputs": [
    {
     "name": "stdout",
     "output_type": "stream",
     "text": [
      "0.0\n"
     ]
    }
   ],
   "source": [
    "with tf.name_scope(\"Scope_value_m\"):\n",
    "    with tf.name_scope(\"Scope_multiply\"):\n",
    "        multiply3=tf.multiply(c,mean_of_x)\n",
    "        with tf.name_scope(\"Scope_subtract\"):\n",
    "                m=tf.subtract(mean_of_y,multiply3)\n",
    "                sess=tf.Session()\n",
    "                print(sess.run(m))"
   ]
  },
  {
   "cell_type": "code",
   "execution_count": 9,
   "metadata": {
    "collapsed": true
   },
   "outputs": [],
   "source": [
    " writer = tf.summary.FileWriter(\"/tmp/tboard/assignment2\", sess.graph)"
   ]
  },
  {
   "cell_type": "code",
   "execution_count": 17,
   "metadata": {},
   "outputs": [
    {
     "name": "stdout",
     "output_type": "stream",
     "text": [
      "[7.0, 4.0, 3.0, 9.0, 6.0, 2.0]\n"
     ]
    }
   ],
   "source": [
    "with tf.Session() as sess:\n",
    "    x1=sess.run(x)\n",
    "    y1=sess.run(y)\n",
    "array_X = np.asarray(x1)\n",
    "array_Y = np.asarray(y1)\n",
    "value_X=tf.constant([7.0, 4.0, 3.0, 9.0, 6.0, 2.0])\n",
    "with tf.Session() as sess:\n",
    "    value_X1=sess.run(value_X)\n",
    "value_X2=np.asarray(value_X1)\n",
    "value_Y=[0]*6\n",
    "with tf.Session() as sess:\n",
    "        for i in range(len(sess.run(value_X))):\n",
    "            output = sess.run(value_X[i])\n",
    "            t1=tf.multiply(output,c)\n",
    "            t2=tf.add(t1,m)\n",
    "            value_Y[i]=sess.run(t2)\n",
    "print(value_Y)"
   ]
  },
  {
   "cell_type": "code",
   "execution_count": 18,
   "metadata": {},
   "outputs": [
    {
     "data": {
      "image/png": "[encoded data removed]",
      "text/plain": [
       "<matplotlib.figure.Figure at 0x7f90441e29b0>"
      ]
     },
     "metadata": {},
     "output_type": "display_data"
    }
   ],
   "source": [
    "plt.plot(array_X, array_Y, 'bo', label='value')\n",
    "plt.plot(value_X2, value_Y, label='fittedline')\n",
    "plt.legend()\n",
    "plt.show()"
   ]
  },
  {
   "cell_type": "code",
   "execution_count": 19,
   "metadata": {},
   "outputs": [
    {
     "name": "stdout",
     "output_type": "stream",
     "text": [
      "0.0\n"
     ]
    }
   ],
   "source": [
    "#root mean square\n",
    "with tf.name_scope(\"rootmean_square\"):\n",
    "    rootmean=tf.sqrt(tf.reduce_mean(tf.squared_difference(array_X,array_Y)))\n",
    "    with tf.Session() as sess:\n",
    "        print(sess.run(rootmean))"
   ]
  },
  {
   "cell_type": "code",
   "execution_count": null,
   "metadata": {
    "collapsed": true
   },
   "outputs": [],
   "source": []
  }
 ],
 "metadata": {
  "kernelspec": {
   "display_name": "Python 3",
   "language": "python",
   "name": "python3"
  },
  "language_info": {
   "codemirror_mode": {
    "name": "ipython",
    "version": 3
   },
   "file_extension": ".py",
   "mimetype": "text/x-python",
   "name": "python",
   "nbconvert_exporter": "python",
   "pygments_lexer": "ipython3",
   "version": "3.6.1"
  }
 },
 "nbformat": 4,
 "nbformat_minor": 2
}
