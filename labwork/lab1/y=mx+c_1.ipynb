{
 "cells": [
  {
   "cell_type": "code",
   "execution_count": 43,
   "metadata": {},
   "outputs": [
    {
     "name": "stdout",
     "output_type": "stream",
     "text": [
      "3.5\n"
     ]
    }
   ],
   "source": [
    "#run this program on python shell\n",
    "import tensorflow as tf\n",
    "# Creates a graph.\n",
    "x = tf.constant([1.0, 2.0, 3.0, 4.0, 5.0, 6.0], shape=[1, 6], name='a')\n",
    "y = tf.constant([1.0, 2.0, 9.0, 4.0, 7.0, 6.0], shape=[1, 6], name='b')\n",
    "\n",
    "with tf.name_scope(\"mean_scope\"):\n",
    "    mean_x=tf.reduce_mean(x)\n",
    "    mean_y=tf.reduce_mean(y)\n",
    "   ## tf.multiply()\n",
    "    \n",
    "sess=tf.Session()\n",
    "print(sess.run(mean_x))\n"
   ]
  },
  {
   "cell_type": "code",
   "execution_count": 44,
   "metadata": {},
   "outputs": [
    {
     "name": "stdout",
     "output_type": "stream",
     "text": [
      "[[-2.5 -1.5 -0.5  0.5  1.5  2.5]]\n",
      "17.5\n"
     ]
    }
   ],
   "source": [
    "##Calculate variance for x variance(x)=sum((x-mean(x))^2)\n",
    "\n",
    "with tf.name_scope(\"VARIANCE_scope\"):\n",
    "    a1=tf.subtract(x,mean_x)\n",
    "    sess=tf.Session()\n",
    "    print(sess.run(a1))\n",
    "\n",
    "    a2=tf.square(a1)\n",
    "    var_x=tf.reduce_sum(a2)\n",
    "\n",
    "    sess=tf.Session()\n",
    "    print(sess.run(var_x))\n"
   ]
  },
  {
   "cell_type": "code",
   "execution_count": 45,
   "metadata": {},
   "outputs": [
    {
     "name": "stdout",
     "output_type": "stream",
     "text": [
      "[[-2.5 -1.5 -0.5  0.5  1.5  2.5]]\n",
      "[[-3.83333349 -2.83333349  4.16666651 -0.83333349  2.16666651  1.16666651]]\n",
      "[[ 9.58333397  4.25       -2.08333325 -0.41666675  3.24999976  2.91666627]]\n",
      "17.5\n"
     ]
    }
   ],
   "source": [
    "\n",
    "##Calculate covariance of x & y covariance = sum((x(i) - mean(x)) * (y(i) - mean(y)))\n",
    "with tf.name_scope(\"covariance_scope\"):\n",
    "    m=tf.subtract(x,mean_x)\n",
    "    sess=tf.Session()\n",
    "    print(sess.run(m))\n",
    "\n",
    "    n=tf.subtract(y,mean_y)\n",
    "    sess=tf.Session()\n",
    "    print(sess.run(n))\n",
    "\n",
    "    o=tf.multiply(m,n)\n",
    "    sess=tf.Session()\n",
    "    print(sess.run(o))\n",
    "\n",
    "    cov=tf.reduce_sum(o)\n",
    "\n",
    "    sess=tf.Session()\n",
    "    print(sess.run(cov))\n"
   ]
  },
  {
   "cell_type": "code",
   "execution_count": 46,
   "metadata": {},
   "outputs": [
    {
     "name": "stdout",
     "output_type": "stream",
     "text": [
      "1.0\n"
     ]
    }
   ],
   "source": [
    "##Calculate value of c c = covariance(x,y)/variance(x)\n",
    "with tf.name_scope(\"value_c_scope\"):\n",
    "    value_c=tf.divide(cov,var_x)\n",
    "    sess=tf.Session()\n",
    "    print(sess.run(value_c))"
   ]
  },
  {
   "cell_type": "code",
   "execution_count": 49,
   "metadata": {},
   "outputs": [
    {
     "name": "stdout",
     "output_type": "stream",
     "text": [
      "1.33333\n"
     ]
    }
   ],
   "source": [
    "##Calculate value of m m = mean(y) -c* mean(x)\n",
    "with tf.name_scope(\"value_of_m_scope\"):\n",
    "    r=tf.multiply(value_c,mean_x)\n",
    "    value_m=tf.subtract(mean_y,r)\n",
    "\n",
    "    sess=tf.Session()\n",
    "    print(sess.run(value_m))"
   ]
  },
  {
   "cell_type": "code",
   "execution_count": 50,
   "metadata": {
    "collapsed": true
   },
   "outputs": [],
   "source": [
    " writer = tf.summary.FileWriter(\"/tmp/tboard/output3\", sess.graph)"
   ]
  },
  {
   "cell_type": "code",
   "execution_count": null,
   "metadata": {
    "collapsed": true
   },
   "outputs": [],
   "source": []
  }
 ],
 "metadata": {
  "kernelspec": {
   "display_name": "Python 3",
   "language": "python",
   "name": "python3"
  },
  "language_info": {
   "codemirror_mode": {
    "name": "ipython",
    "version": 3
   },
   "file_extension": ".py",
   "mimetype": "text/x-python",
   "name": "python",
   "nbconvert_exporter": "python",
   "pygments_lexer": "ipython3",
   "version": "3.6.1"
  }
 },
 "nbformat": 4,
 "nbformat_minor": 2
}
